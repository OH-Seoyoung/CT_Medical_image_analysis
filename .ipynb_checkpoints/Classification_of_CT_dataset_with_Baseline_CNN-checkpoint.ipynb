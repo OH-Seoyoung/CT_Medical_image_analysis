{
 "cells": [
  {
   "cell_type": "markdown",
   "metadata": {},
   "source": [
    "## Baseline CNN with CT dataset on kaggle\n",
    "- Softmax\n",
    "\n",
    "### dataset\n",
    "[1] CT Medical Images, https://www.kaggle.com/kmader/siim-medical-images"
   ]
  },
  {
   "cell_type": "code",
   "execution_count": 1,
   "metadata": {
    "_active": false,
    "_cell_guid": "de20a6d3-24c9-5cc9-5404-30e76357b2ec"
   },
   "outputs": [
    {
     "name": "stderr",
     "output_type": "stream",
     "text": [
      "Using TensorFlow backend.\n"
     ]
    }
   ],
   "source": [
    "import numpy as np # matrix tools\n",
    "import matplotlib.pyplot as plt # for basic plots\n",
    "import seaborn as sns # for nicer plots\n",
    "import pandas as pd\n",
    "from glob import glob\n",
    "import re\n",
    "from skimage.io import imread\n",
    "\n",
    "import keras"
   ]
  },
  {
   "cell_type": "code",
   "execution_count": 2,
   "metadata": {},
   "outputs": [
    {
     "data": {
      "text/html": [
       "<div>\n",
       "<style scoped>\n",
       "    .dataframe tbody tr th:only-of-type {\n",
       "        vertical-align: middle;\n",
       "    }\n",
       "\n",
       "    .dataframe tbody tr th {\n",
       "        vertical-align: top;\n",
       "    }\n",
       "\n",
       "    .dataframe thead th {\n",
       "        text-align: right;\n",
       "    }\n",
       "</style>\n",
       "<table border=\"1\" class=\"dataframe\">\n",
       "  <thead>\n",
       "    <tr style=\"text-align: right;\">\n",
       "      <th></th>\n",
       "      <th>idx</th>\n",
       "      <th>Age</th>\n",
       "      <th>Contrast</th>\n",
       "      <th>ContrastTag</th>\n",
       "      <th>raw_input_path</th>\n",
       "      <th>id</th>\n",
       "      <th>tiff_name</th>\n",
       "      <th>dicom_name</th>\n",
       "    </tr>\n",
       "  </thead>\n",
       "  <tbody>\n",
       "    <tr>\n",
       "      <th>19</th>\n",
       "      <td>19</td>\n",
       "      <td>70</td>\n",
       "      <td>Contrast</td>\n",
       "      <td>NONE</td>\n",
       "      <td>../data/50_50_dicom_cases\\Contrast\\00001 (27).dcm</td>\n",
       "      <td>19</td>\n",
       "      <td>ID_0019_AGE_0070_CONTRAST_1_CT.tif</td>\n",
       "      <td>ID_0019_AGE_0070_CONTRAST_1_CT.dcm</td>\n",
       "    </tr>\n",
       "    <tr>\n",
       "      <th>71</th>\n",
       "      <td>71</td>\n",
       "      <td>65</td>\n",
       "      <td>No Contrast</td>\n",
       "      <td>NONE</td>\n",
       "      <td>../data/50_50_dicom_cases\\No contrast\\000001 (...</td>\n",
       "      <td>71</td>\n",
       "      <td>ID_0071_AGE_0065_CONTRAST_0_CT.tif</td>\n",
       "      <td>ID_0071_AGE_0065_CONTRAST_0_CT.dcm</td>\n",
       "    </tr>\n",
       "    <tr>\n",
       "      <th>48</th>\n",
       "      <td>48</td>\n",
       "      <td>77</td>\n",
       "      <td>Contrast</td>\n",
       "      <td>NONE</td>\n",
       "      <td>../data/50_50_dicom_cases\\Contrast\\00001 (8).dcm</td>\n",
       "      <td>48</td>\n",
       "      <td>ID_0048_AGE_0077_CONTRAST_1_CT.tif</td>\n",
       "      <td>ID_0048_AGE_0077_CONTRAST_1_CT.dcm</td>\n",
       "    </tr>\n",
       "  </tbody>\n",
       "</table>\n",
       "</div>"
      ],
      "text/plain": [
       "    idx  Age     Contrast ContrastTag  \\\n",
       "19   19   70     Contrast        NONE   \n",
       "71   71   65  No Contrast        NONE   \n",
       "48   48   77     Contrast        NONE   \n",
       "\n",
       "                                       raw_input_path  id  \\\n",
       "19  ../data/50_50_dicom_cases\\Contrast\\00001 (27).dcm  19   \n",
       "71  ../data/50_50_dicom_cases\\No contrast\\000001 (...  71   \n",
       "48   ../data/50_50_dicom_cases\\Contrast\\00001 (8).dcm  48   \n",
       "\n",
       "                             tiff_name                          dicom_name  \n",
       "19  ID_0019_AGE_0070_CONTRAST_1_CT.tif  ID_0019_AGE_0070_CONTRAST_1_CT.dcm  \n",
       "71  ID_0071_AGE_0065_CONTRAST_0_CT.tif  ID_0071_AGE_0065_CONTRAST_0_CT.dcm  \n",
       "48  ID_0048_AGE_0077_CONTRAST_1_CT.tif  ID_0048_AGE_0077_CONTRAST_1_CT.dcm  "
      ]
     },
     "execution_count": 2,
     "metadata": {},
     "output_type": "execute_result"
    }
   ],
   "source": [
    "overview_df = pd.read_csv('../input/overview.csv')\n",
    "overview_df.columns = ['idx']+list(overview_df.columns[1:])\n",
    "overview_df['Contrast'] = overview_df['Contrast'].map(lambda x: 'Contrast' if x else 'No Contrast')\n",
    "overview_df.sample(3)"
   ]
  },
  {
   "cell_type": "code",
   "execution_count": 3,
   "metadata": {
    "_active": false,
    "_cell_guid": "37d3b716-f0fe-f9f3-6ac0-1669a9c8d51c"
   },
   "outputs": [
    {
     "name": "stdout",
     "output_type": "stream",
     "text": [
      "/kaggle/input ______\n",
      "/kaggle/input/full_archive.npz\n",
      "/kaggle/input/overview.csv\n",
      "/kaggle/input/dicom_dir ______\n",
      "/kaggle/input/dicom_dir/ID_0015_AGE_0061_CONTRAST_1_CT.dcm\n",
      "/kaggle/input/dicom_dir/ID_0019_AGE_0070_CONTRAST_1_CT.dcm\n",
      "/kaggle/input/dicom_dir/ID_0063_AGE_0073_CONTRAST_0_CT.dcm\n",
      "/kaggle/input/dicom_dir/ID_0077_AGE_0074_CONTRAST_0_CT.dcm\n",
      "/kaggle/input/dicom_dir/ID_0073_AGE_0074_CONTRAST_0_CT.dcm\n",
      "/kaggle/input/dicom_dir/ID_0060_AGE_0080_CONTRAST_0_CT.dcm\n",
      "/kaggle/input/dicom_dir/ID_0051_AGE_0063_CONTRAST_0_CT.dcm\n",
      "/kaggle/input/dicom_dir/ID_0091_AGE_0072_CONTRAST_0_CT.dcm\n",
      "/kaggle/input/dicom_dir/ID_0004_AGE_0056_CONTRAST_1_CT.dcm\n",
      "/kaggle/input/dicom_dir/ID_0076_AGE_0068_CONTRAST_0_CT.dcm\n",
      "/kaggle/input/dicom_dir/ID_0055_AGE_0071_CONTRAST_0_CT.dcm\n",
      "/kaggle/input/dicom_dir/ID_0000_AGE_0060_CONTRAST_1_CT.dcm\n",
      "/kaggle/input/dicom_dir/ID_0089_AGE_0071_CONTRAST_0_CT.dcm\n",
      "/kaggle/input/dicom_dir/ID_0036_AGE_0074_CONTRAST_1_CT.dcm\n",
      "/kaggle/input/dicom_dir/ID_0066_AGE_0082_CONTRAST_0_CT.dcm\n",
      "/kaggle/input/dicom_dir/ID_0078_AGE_0066_CONTRAST_0_CT.dcm\n",
      "/kaggle/input/dicom_dir/ID_0064_AGE_0058_CONTRAST_0_CT.dcm\n",
      "/kaggle/input/dicom_dir/ID_0030_AGE_0076_CONTRAST_1_CT.dcm\n",
      "/kaggle/input/dicom_dir/ID_0016_AGE_0063_CONTRAST_1_CT.dcm\n",
      "/kaggle/input/dicom_dir/ID_0052_AGE_0072_CONTRAST_0_CT.dcm\n",
      "/kaggle/input/dicom_dir/ID_0081_AGE_0058_CONTRAST_0_CT.dcm\n",
      "/kaggle/input/dicom_dir/ID_0041_AGE_0045_CONTRAST_1_CT.dcm\n",
      "/kaggle/input/dicom_dir/ID_0014_AGE_0071_CONTRAST_1_CT.dcm\n",
      "/kaggle/input/dicom_dir/ID_0001_AGE_0069_CONTRAST_1_CT.dcm\n",
      "/kaggle/input/dicom_dir/ID_0093_AGE_0067_CONTRAST_0_CT.dcm\n",
      "/kaggle/input/dicom_dir/ID_0012_AGE_0061_CONTRAST_1_CT.dcm\n",
      "/kaggle/input/dicom_dir/ID_0097_AGE_0060_CONTRAST_0_CT.dcm\n",
      "/kaggle/input/dicom_dir/ID_0021_AGE_0067_CONTRAST_1_CT.dcm\n",
      "/kaggle/input/dicom_dir/ID_0023_AGE_0061_CONTRAST_1_CT.dcm\n",
      "/kaggle/input/dicom_dir/ID_0031_AGE_0039_CONTRAST_1_CT.dcm\n",
      "/kaggle/input/dicom_dir/ID_0049_AGE_0061_CONTRAST_1_CT.dcm\n",
      "/kaggle/input/dicom_dir/ID_0046_AGE_0072_CONTRAST_1_CT.dcm\n",
      "/kaggle/input/dicom_dir/ID_0065_AGE_0082_CONTRAST_0_CT.dcm\n",
      "/kaggle/input/dicom_dir/ID_0040_AGE_0069_CONTRAST_1_CT.dcm\n",
      "/kaggle/input/dicom_dir/ID_0088_AGE_0067_CONTRAST_0_CT.dcm\n",
      "/kaggle/input/dicom_dir/ID_0075_AGE_0080_CONTRAST_0_CT.dcm\n",
      "/kaggle/input/dicom_dir/ID_0053_AGE_0073_CONTRAST_0_CT.dcm\n",
      "/kaggle/input/dicom_dir/ID_0054_AGE_0082_CONTRAST_0_CT.dcm\n",
      "/kaggle/input/dicom_dir/ID_0032_AGE_0061_CONTRAST_1_CT.dcm\n",
      "/kaggle/input/dicom_dir/ID_0026_AGE_0070_CONTRAST_1_CT.dcm\n",
      "/kaggle/input/dicom_dir/ID_0083_AGE_0082_CONTRAST_0_CT.dcm\n",
      "/kaggle/input/dicom_dir/ID_0085_AGE_0067_CONTRAST_0_CT.dcm\n",
      "/kaggle/input/dicom_dir/ID_0074_AGE_0074_CONTRAST_0_CT.dcm\n",
      "/kaggle/input/dicom_dir/ID_0034_AGE_0061_CONTRAST_1_CT.dcm\n",
      "/kaggle/input/dicom_dir/ID_0013_AGE_0060_CONTRAST_1_CT.dcm\n",
      "/kaggle/input/dicom_dir/ID_0057_AGE_0049_CONTRAST_0_CT.dcm\n",
      "/kaggle/input/dicom_dir/ID_0011_AGE_0061_CONTRAST_1_CT.dcm\n",
      "/kaggle/input/dicom_dir/ID_0038_AGE_0071_CONTRAST_1_CT.dcm\n",
      "/kaggle/input/dicom_dir/ID_0010_AGE_0060_CONTRAST_1_CT.dcm\n",
      "/kaggle/input/dicom_dir/ID_0098_AGE_0061_CONTRAST_0_CT.dcm\n",
      "/kaggle/input/dicom_dir/ID_0094_AGE_0052_CONTRAST_0_CT.dcm\n",
      "/kaggle/input/dicom_dir/ID_0039_AGE_0074_CONTRAST_1_CT.dcm\n",
      "/kaggle/input/dicom_dir/ID_0047_AGE_0069_CONTRAST_1_CT.dcm\n",
      "/kaggle/input/dicom_dir/ID_0082_AGE_0047_CONTRAST_0_CT.dcm\n",
      "/kaggle/input/dicom_dir/ID_0037_AGE_0074_CONTRAST_1_CT.dcm\n",
      "/kaggle/input/dicom_dir/ID_0050_AGE_0074_CONTRAST_0_CT.dcm\n",
      "/kaggle/input/dicom_dir/ID_0006_AGE_0075_CONTRAST_1_CT.dcm\n",
      "/kaggle/input/dicom_dir/ID_0096_AGE_0083_CONTRAST_0_CT.dcm\n",
      "/kaggle/input/dicom_dir/ID_0048_AGE_0077_CONTRAST_1_CT.dcm\n",
      "/kaggle/input/dicom_dir/ID_0099_AGE_0061_CONTRAST_0_CT.dcm\n",
      "/kaggle/input/dicom_dir/ID_0059_AGE_0074_CONTRAST_0_CT.dcm\n",
      "/kaggle/input/dicom_dir/ID_0092_AGE_0072_CONTRAST_0_CT.dcm\n",
      "/kaggle/input/dicom_dir/ID_0080_AGE_0070_CONTRAST_0_CT.dcm\n",
      "/kaggle/input/dicom_dir/ID_0008_AGE_0051_CONTRAST_1_CT.dcm\n",
      "/kaggle/input/dicom_dir/ID_0095_AGE_0071_CONTRAST_0_CT.dcm\n",
      "/kaggle/input/dicom_dir/ID_0070_AGE_0074_CONTRAST_0_CT.dcm\n",
      "/kaggle/input/dicom_dir/ID_0045_AGE_0074_CONTRAST_1_CT.dcm\n",
      "/kaggle/input/dicom_dir/ID_0003_AGE_0075_CONTRAST_1_CT.dcm\n",
      "/kaggle/input/dicom_dir/ID_0002_AGE_0074_CONTRAST_1_CT.dcm\n",
      "/kaggle/input/dicom_dir/ID_0025_AGE_0074_CONTRAST_1_CT.dcm\n",
      "/kaggle/input/dicom_dir/ID_0007_AGE_0061_CONTRAST_1_CT.dcm\n",
      "/kaggle/input/dicom_dir/ID_0071_AGE_0065_CONTRAST_0_CT.dcm\n",
      "/kaggle/input/dicom_dir/ID_0084_AGE_0067_CONTRAST_0_CT.dcm\n",
      "/kaggle/input/dicom_dir/ID_0029_AGE_0078_CONTRAST_1_CT.dcm\n",
      "/kaggle/input/dicom_dir/ID_0061_AGE_0074_CONTRAST_0_CT.dcm\n",
      "/kaggle/input/dicom_dir/ID_0018_AGE_0074_CONTRAST_1_CT.dcm\n",
      "/kaggle/input/dicom_dir/ID_0017_AGE_0060_CONTRAST_1_CT.dcm\n",
      "/kaggle/input/dicom_dir/ID_0043_AGE_0069_CONTRAST_1_CT.dcm\n",
      "/kaggle/input/dicom_dir/ID_0056_AGE_0083_CONTRAST_0_CT.dcm\n",
      "/kaggle/input/dicom_dir/ID_0005_AGE_0048_CONTRAST_1_CT.dcm\n",
      "/kaggle/input/dicom_dir/ID_0020_AGE_0066_CONTRAST_1_CT.dcm\n",
      "/kaggle/input/dicom_dir/ID_0079_AGE_0071_CONTRAST_0_CT.dcm\n",
      "/kaggle/input/dicom_dir/ID_0068_AGE_0072_CONTRAST_0_CT.dcm\n",
      "/kaggle/input/dicom_dir/ID_0069_AGE_0074_CONTRAST_0_CT.dcm\n",
      "/kaggle/input/dicom_dir/ID_0062_AGE_0067_CONTRAST_0_CT.dcm\n",
      "/kaggle/input/dicom_dir/ID_0086_AGE_0073_CONTRAST_0_CT.dcm\n",
      "/kaggle/input/dicom_dir/ID_0087_AGE_0044_CONTRAST_0_CT.dcm\n",
      "/kaggle/input/dicom_dir/ID_0044_AGE_0072_CONTRAST_1_CT.dcm\n",
      "/kaggle/input/dicom_dir/ID_0022_AGE_0074_CONTRAST_1_CT.dcm\n",
      "/kaggle/input/dicom_dir/ID_0027_AGE_0064_CONTRAST_1_CT.dcm\n",
      "/kaggle/input/dicom_dir/ID_0009_AGE_0048_CONTRAST_1_CT.dcm\n",
      "/kaggle/input/dicom_dir/ID_0090_AGE_0067_CONTRAST_0_CT.dcm\n",
      "/kaggle/input/dicom_dir/ID_0028_AGE_0074_CONTRAST_1_CT.dcm\n",
      "/kaggle/input/dicom_dir/ID_0033_AGE_0071_CONTRAST_1_CT.dcm\n",
      "/kaggle/input/dicom_dir/ID_0035_AGE_0059_CONTRAST_1_CT.dcm\n",
      "/kaggle/input/dicom_dir/ID_0058_AGE_0082_CONTRAST_0_CT.dcm\n",
      "/kaggle/input/dicom_dir/ID_0072_AGE_0060_CONTRAST_0_CT.dcm\n",
      "/kaggle/input/dicom_dir/ID_0067_AGE_0060_CONTRAST_0_CT.dcm\n",
      "/kaggle/input/dicom_dir/ID_0042_AGE_0071_CONTRAST_1_CT.dcm\n",
      "/kaggle/input/dicom_dir/ID_0024_AGE_0060_CONTRAST_1_CT.dcm\n",
      "/kaggle/input/tiff_images ______\n",
      "/kaggle/input/tiff_images/ID_0027_AGE_0064_CONTRAST_1_CT.tif\n",
      "/kaggle/input/tiff_images/ID_0096_AGE_0083_CONTRAST_0_CT.tif\n",
      "/kaggle/input/tiff_images/ID_0073_AGE_0074_CONTRAST_0_CT.tif\n",
      "/kaggle/input/tiff_images/ID_0046_AGE_0072_CONTRAST_1_CT.tif\n",
      "/kaggle/input/tiff_images/ID_0052_AGE_0072_CONTRAST_0_CT.tif\n",
      "/kaggle/input/tiff_images/ID_0015_AGE_0061_CONTRAST_1_CT.tif\n",
      "/kaggle/input/tiff_images/ID_0009_AGE_0048_CONTRAST_1_CT.tif\n",
      "/kaggle/input/tiff_images/ID_0048_AGE_0077_CONTRAST_1_CT.tif\n",
      "/kaggle/input/tiff_images/ID_0020_AGE_0066_CONTRAST_1_CT.tif\n",
      "/kaggle/input/tiff_images/ID_0055_AGE_0071_CONTRAST_0_CT.tif\n",
      "/kaggle/input/tiff_images/ID_0077_AGE_0074_CONTRAST_0_CT.tif\n",
      "/kaggle/input/tiff_images/ID_0086_AGE_0073_CONTRAST_0_CT.tif\n",
      "/kaggle/input/tiff_images/ID_0005_AGE_0048_CONTRAST_1_CT.tif\n",
      "/kaggle/input/tiff_images/ID_0050_AGE_0074_CONTRAST_0_CT.tif\n",
      "/kaggle/input/tiff_images/ID_0002_AGE_0074_CONTRAST_1_CT.tif\n",
      "/kaggle/input/tiff_images/ID_0016_AGE_0063_CONTRAST_1_CT.tif\n",
      "/kaggle/input/tiff_images/ID_0083_AGE_0082_CONTRAST_0_CT.tif\n",
      "/kaggle/input/tiff_images/ID_0063_AGE_0073_CONTRAST_0_CT.tif\n",
      "/kaggle/input/tiff_images/ID_0038_AGE_0071_CONTRAST_1_CT.tif\n",
      "/kaggle/input/tiff_images/ID_0024_AGE_0060_CONTRAST_1_CT.tif\n",
      "/kaggle/input/tiff_images/ID_0023_AGE_0061_CONTRAST_1_CT.tif\n",
      "/kaggle/input/tiff_images/ID_0019_AGE_0070_CONTRAST_1_CT.tif\n",
      "/kaggle/input/tiff_images/ID_0072_AGE_0060_CONTRAST_0_CT.tif\n",
      "/kaggle/input/tiff_images/ID_0074_AGE_0074_CONTRAST_0_CT.tif\n",
      "/kaggle/input/tiff_images/ID_0076_AGE_0068_CONTRAST_0_CT.tif\n",
      "/kaggle/input/tiff_images/ID_0001_AGE_0069_CONTRAST_1_CT.tif\n",
      "/kaggle/input/tiff_images/ID_0061_AGE_0074_CONTRAST_0_CT.tif\n",
      "/kaggle/input/tiff_images/ID_0035_AGE_0059_CONTRAST_1_CT.tif\n",
      "/kaggle/input/tiff_images/ID_0070_AGE_0074_CONTRAST_0_CT.tif\n",
      "/kaggle/input/tiff_images/ID_0095_AGE_0071_CONTRAST_0_CT.tif\n",
      "/kaggle/input/tiff_images/ID_0047_AGE_0069_CONTRAST_1_CT.tif\n",
      "/kaggle/input/tiff_images/ID_0022_AGE_0074_CONTRAST_1_CT.tif\n",
      "/kaggle/input/tiff_images/ID_0094_AGE_0052_CONTRAST_0_CT.tif\n",
      "/kaggle/input/tiff_images/ID_0029_AGE_0078_CONTRAST_1_CT.tif\n",
      "/kaggle/input/tiff_images/ID_0057_AGE_0049_CONTRAST_0_CT.tif\n",
      "/kaggle/input/tiff_images/ID_0056_AGE_0083_CONTRAST_0_CT.tif\n",
      "/kaggle/input/tiff_images/ID_0064_AGE_0058_CONTRAST_0_CT.tif\n",
      "/kaggle/input/tiff_images/ID_0079_AGE_0071_CONTRAST_0_CT.tif\n",
      "/kaggle/input/tiff_images/ID_0011_AGE_0061_CONTRAST_1_CT.tif\n",
      "/kaggle/input/tiff_images/ID_0033_AGE_0071_CONTRAST_1_CT.tif\n",
      "/kaggle/input/tiff_images/ID_0039_AGE_0074_CONTRAST_1_CT.tif\n",
      "/kaggle/input/tiff_images/ID_0067_AGE_0060_CONTRAST_0_CT.tif\n",
      "/kaggle/input/tiff_images/ID_0065_AGE_0082_CONTRAST_0_CT.tif\n",
      "/kaggle/input/tiff_images/ID_0087_AGE_0044_CONTRAST_0_CT.tif\n",
      "/kaggle/input/tiff_images/ID_0066_AGE_0082_CONTRAST_0_CT.tif\n",
      "/kaggle/input/tiff_images/ID_0017_AGE_0060_CONTRAST_1_CT.tif\n",
      "/kaggle/input/tiff_images/ID_0053_AGE_0073_CONTRAST_0_CT.tif\n",
      "/kaggle/input/tiff_images/ID_0040_AGE_0069_CONTRAST_1_CT.tif\n",
      "/kaggle/input/tiff_images/ID_0021_AGE_0067_CONTRAST_1_CT.tif\n",
      "/kaggle/input/tiff_images/ID_0010_AGE_0060_CONTRAST_1_CT.tif\n",
      "/kaggle/input/tiff_images/ID_0062_AGE_0067_CONTRAST_0_CT.tif\n",
      "/kaggle/input/tiff_images/ID_0025_AGE_0074_CONTRAST_1_CT.tif\n",
      "/kaggle/input/tiff_images/ID_0004_AGE_0056_CONTRAST_1_CT.tif\n",
      "/kaggle/input/tiff_images/ID_0090_AGE_0067_CONTRAST_0_CT.tif\n",
      "/kaggle/input/tiff_images/ID_0080_AGE_0070_CONTRAST_0_CT.tif\n",
      "/kaggle/input/tiff_images/ID_0060_AGE_0080_CONTRAST_0_CT.tif\n",
      "/kaggle/input/tiff_images/ID_0089_AGE_0071_CONTRAST_0_CT.tif\n",
      "/kaggle/input/tiff_images/ID_0098_AGE_0061_CONTRAST_0_CT.tif\n",
      "/kaggle/input/tiff_images/ID_0014_AGE_0071_CONTRAST_1_CT.tif\n",
      "/kaggle/input/tiff_images/ID_0082_AGE_0047_CONTRAST_0_CT.tif\n",
      "/kaggle/input/tiff_images/ID_0007_AGE_0061_CONTRAST_1_CT.tif\n",
      "/kaggle/input/tiff_images/ID_0059_AGE_0074_CONTRAST_0_CT.tif\n",
      "/kaggle/input/tiff_images/ID_0012_AGE_0061_CONTRAST_1_CT.tif\n",
      "/kaggle/input/tiff_images/ID_0041_AGE_0045_CONTRAST_1_CT.tif\n",
      "/kaggle/input/tiff_images/ID_0068_AGE_0072_CONTRAST_0_CT.tif\n",
      "/kaggle/input/tiff_images/ID_0097_AGE_0060_CONTRAST_0_CT.tif\n",
      "/kaggle/input/tiff_images/ID_0054_AGE_0082_CONTRAST_0_CT.tif\n",
      "/kaggle/input/tiff_images/ID_0071_AGE_0065_CONTRAST_0_CT.tif\n",
      "/kaggle/input/tiff_images/ID_0036_AGE_0074_CONTRAST_1_CT.tif\n",
      "/kaggle/input/tiff_images/ID_0030_AGE_0076_CONTRAST_1_CT.tif\n",
      "/kaggle/input/tiff_images/ID_0091_AGE_0072_CONTRAST_0_CT.tif\n",
      "/kaggle/input/tiff_images/ID_0078_AGE_0066_CONTRAST_0_CT.tif\n",
      "/kaggle/input/tiff_images/ID_0069_AGE_0074_CONTRAST_0_CT.tif\n",
      "/kaggle/input/tiff_images/ID_0037_AGE_0074_CONTRAST_1_CT.tif\n",
      "/kaggle/input/tiff_images/ID_0099_AGE_0061_CONTRAST_0_CT.tif\n",
      "/kaggle/input/tiff_images/ID_0045_AGE_0074_CONTRAST_1_CT.tif\n",
      "/kaggle/input/tiff_images/ID_0034_AGE_0061_CONTRAST_1_CT.tif\n",
      "/kaggle/input/tiff_images/ID_0043_AGE_0069_CONTRAST_1_CT.tif\n",
      "/kaggle/input/tiff_images/ID_0085_AGE_0067_CONTRAST_0_CT.tif\n",
      "/kaggle/input/tiff_images/ID_0049_AGE_0061_CONTRAST_1_CT.tif\n",
      "/kaggle/input/tiff_images/ID_0093_AGE_0067_CONTRAST_0_CT.tif\n",
      "/kaggle/input/tiff_images/ID_0000_AGE_0060_CONTRAST_1_CT.tif\n",
      "/kaggle/input/tiff_images/ID_0084_AGE_0067_CONTRAST_0_CT.tif\n",
      "/kaggle/input/tiff_images/ID_0058_AGE_0082_CONTRAST_0_CT.tif\n",
      "/kaggle/input/tiff_images/ID_0013_AGE_0060_CONTRAST_1_CT.tif\n",
      "/kaggle/input/tiff_images/ID_0088_AGE_0067_CONTRAST_0_CT.tif\n",
      "/kaggle/input/tiff_images/ID_0042_AGE_0071_CONTRAST_1_CT.tif\n",
      "/kaggle/input/tiff_images/ID_0092_AGE_0072_CONTRAST_0_CT.tif\n",
      "/kaggle/input/tiff_images/ID_0018_AGE_0074_CONTRAST_1_CT.tif\n",
      "/kaggle/input/tiff_images/ID_0051_AGE_0063_CONTRAST_0_CT.tif\n",
      "/kaggle/input/tiff_images/ID_0031_AGE_0039_CONTRAST_1_CT.tif\n",
      "/kaggle/input/tiff_images/ID_0006_AGE_0075_CONTRAST_1_CT.tif\n",
      "/kaggle/input/tiff_images/ID_0032_AGE_0061_CONTRAST_1_CT.tif\n",
      "/kaggle/input/tiff_images/ID_0008_AGE_0051_CONTRAST_1_CT.tif\n",
      "/kaggle/input/tiff_images/ID_0044_AGE_0072_CONTRAST_1_CT.tif\n",
      "/kaggle/input/tiff_images/ID_0026_AGE_0070_CONTRAST_1_CT.tif\n",
      "/kaggle/input/tiff_images/ID_0003_AGE_0075_CONTRAST_1_CT.tif\n",
      "/kaggle/input/tiff_images/ID_0028_AGE_0074_CONTRAST_1_CT.tif\n",
      "/kaggle/input/tiff_images/ID_0075_AGE_0080_CONTRAST_0_CT.tif\n",
      "/kaggle/input/tiff_images/ID_0081_AGE_0058_CONTRAST_0_CT.tif\n"
     ]
    }
   ],
   "source": [
    "%matplotlib inline\n",
    "import os\n",
    "for dirname, _, filenames in os.walk('/kaggle/input'):\n",
    "    print(dirname,\"______\")\n",
    "    for filename in filenames:\n",
    "        print(os.path.join(dirname, filename))"
   ]
  },
  {
   "cell_type": "code",
   "execution_count": 4,
   "metadata": {
    "_active": false,
    "_cell_guid": "cbc3da93-f439-0d61-fe6e-b395e7e81e81"
   },
   "outputs": [
    {
     "name": "stdout",
     "output_type": "stream",
     "text": [
      "['dicom_dir', 'full_archive.npz', 'tiff_images', 'overview.csv']\n"
     ]
    },
    {
     "data": {
      "text/html": [
       "<div>\n",
       "<style scoped>\n",
       "    .dataframe tbody tr th:only-of-type {\n",
       "        vertical-align: middle;\n",
       "    }\n",
       "\n",
       "    .dataframe tbody tr th {\n",
       "        vertical-align: top;\n",
       "    }\n",
       "\n",
       "    .dataframe thead th {\n",
       "        text-align: right;\n",
       "    }\n",
       "</style>\n",
       "<table border=\"1\" class=\"dataframe\">\n",
       "  <thead>\n",
       "    <tr style=\"text-align: right;\">\n",
       "      <th></th>\n",
       "      <th>Unnamed: 0</th>\n",
       "      <th>Age</th>\n",
       "      <th>Contrast</th>\n",
       "      <th>ContrastTag</th>\n",
       "      <th>raw_input_path</th>\n",
       "      <th>id</th>\n",
       "      <th>tiff_name</th>\n",
       "      <th>dicom_name</th>\n",
       "    </tr>\n",
       "  </thead>\n",
       "  <tbody>\n",
       "    <tr>\n",
       "      <th>0</th>\n",
       "      <td>0</td>\n",
       "      <td>60</td>\n",
       "      <td>True</td>\n",
       "      <td>NONE</td>\n",
       "      <td>../data/50_50_dicom_cases\\Contrast\\00001 (1).dcm</td>\n",
       "      <td>0</td>\n",
       "      <td>ID_0000_AGE_0060_CONTRAST_1_CT.tif</td>\n",
       "      <td>ID_0000_AGE_0060_CONTRAST_1_CT.dcm</td>\n",
       "    </tr>\n",
       "    <tr>\n",
       "      <th>1</th>\n",
       "      <td>1</td>\n",
       "      <td>69</td>\n",
       "      <td>True</td>\n",
       "      <td>NONE</td>\n",
       "      <td>../data/50_50_dicom_cases\\Contrast\\00001 (10).dcm</td>\n",
       "      <td>1</td>\n",
       "      <td>ID_0001_AGE_0069_CONTRAST_1_CT.tif</td>\n",
       "      <td>ID_0001_AGE_0069_CONTRAST_1_CT.dcm</td>\n",
       "    </tr>\n",
       "    <tr>\n",
       "      <th>2</th>\n",
       "      <td>2</td>\n",
       "      <td>74</td>\n",
       "      <td>True</td>\n",
       "      <td>APPLIED</td>\n",
       "      <td>../data/50_50_dicom_cases\\Contrast\\00001 (11).dcm</td>\n",
       "      <td>2</td>\n",
       "      <td>ID_0002_AGE_0074_CONTRAST_1_CT.tif</td>\n",
       "      <td>ID_0002_AGE_0074_CONTRAST_1_CT.dcm</td>\n",
       "    </tr>\n",
       "    <tr>\n",
       "      <th>3</th>\n",
       "      <td>3</td>\n",
       "      <td>75</td>\n",
       "      <td>True</td>\n",
       "      <td>NONE</td>\n",
       "      <td>../data/50_50_dicom_cases\\Contrast\\00001 (12).dcm</td>\n",
       "      <td>3</td>\n",
       "      <td>ID_0003_AGE_0075_CONTRAST_1_CT.tif</td>\n",
       "      <td>ID_0003_AGE_0075_CONTRAST_1_CT.dcm</td>\n",
       "    </tr>\n",
       "    <tr>\n",
       "      <th>4</th>\n",
       "      <td>4</td>\n",
       "      <td>56</td>\n",
       "      <td>True</td>\n",
       "      <td>NONE</td>\n",
       "      <td>../data/50_50_dicom_cases\\Contrast\\00001 (13).dcm</td>\n",
       "      <td>4</td>\n",
       "      <td>ID_0004_AGE_0056_CONTRAST_1_CT.tif</td>\n",
       "      <td>ID_0004_AGE_0056_CONTRAST_1_CT.dcm</td>\n",
       "    </tr>\n",
       "  </tbody>\n",
       "</table>\n",
       "</div>"
      ],
      "text/plain": [
       "   Unnamed: 0  Age  Contrast ContrastTag  \\\n",
       "0           0   60      True        NONE   \n",
       "1           1   69      True        NONE   \n",
       "2           2   74      True     APPLIED   \n",
       "3           3   75      True        NONE   \n",
       "4           4   56      True        NONE   \n",
       "\n",
       "                                      raw_input_path  id  \\\n",
       "0   ../data/50_50_dicom_cases\\Contrast\\00001 (1).dcm   0   \n",
       "1  ../data/50_50_dicom_cases\\Contrast\\00001 (10).dcm   1   \n",
       "2  ../data/50_50_dicom_cases\\Contrast\\00001 (11).dcm   2   \n",
       "3  ../data/50_50_dicom_cases\\Contrast\\00001 (12).dcm   3   \n",
       "4  ../data/50_50_dicom_cases\\Contrast\\00001 (13).dcm   4   \n",
       "\n",
       "                            tiff_name                          dicom_name  \n",
       "0  ID_0000_AGE_0060_CONTRAST_1_CT.tif  ID_0000_AGE_0060_CONTRAST_1_CT.dcm  \n",
       "1  ID_0001_AGE_0069_CONTRAST_1_CT.tif  ID_0001_AGE_0069_CONTRAST_1_CT.dcm  \n",
       "2  ID_0002_AGE_0074_CONTRAST_1_CT.tif  ID_0002_AGE_0074_CONTRAST_1_CT.dcm  \n",
       "3  ID_0003_AGE_0075_CONTRAST_1_CT.tif  ID_0003_AGE_0075_CONTRAST_1_CT.dcm  \n",
       "4  ID_0004_AGE_0056_CONTRAST_1_CT.tif  ID_0004_AGE_0056_CONTRAST_1_CT.dcm  "
      ]
     },
     "execution_count": 4,
     "metadata": {},
     "output_type": "execute_result"
    }
   ],
   "source": [
    "IS_LOCAL = False\n",
    "if(IS_LOCAL):\n",
    "    PATH=\"../input/siim-medical-image/\"\n",
    "else:\n",
    "    PATH=\"../input/\"\n",
    "print(os.listdir(PATH))\n",
    "overview = pd.read_csv(os.path.join(PATH,\"overview.csv\"))\n",
    "overview.head()"
   ]
  },
  {
   "cell_type": "code",
   "execution_count": 5,
   "metadata": {
    "_active": false,
    "_cell_guid": "79b78f95-baca-2d76-0327-2313437e274f"
   },
   "outputs": [
    {
     "data": {
      "text/plain": [
       "100"
      ]
     },
     "execution_count": 5,
     "metadata": {},
     "output_type": "execute_result"
    }
   ],
   "source": [
    "len(overview)"
   ]
  },
  {
   "cell_type": "code",
   "execution_count": 6,
   "metadata": {
    "_active": false,
    "_cell_guid": "839a64dc-5509-5c6a-56b2-c3c47ece0299"
   },
   "outputs": [],
   "source": [
    "overview['Contrast'] = overview['Contrast'].map(lambda x: 1 if x else 0)"
   ]
  },
  {
   "cell_type": "code",
   "execution_count": 7,
   "metadata": {
    "_active": false,
    "_cell_guid": "6c7a70ca-6bfe-e7b1-612b-83cd477e00ba"
   },
   "outputs": [
    {
     "data": {
      "text/plain": [
       "<matplotlib.axes._subplots.AxesSubplot at 0x7fd4a9062810>"
      ]
     },
     "execution_count": 7,
     "metadata": {},
     "output_type": "execute_result"
    },
    {
     "data": {
      "image/png": "[encoded data removed]",
      "text/plain": [
       "<Figure size 720x360 with 1 Axes>"
      ]
     },
     "metadata": {
      "needs_background": "light"
     },
     "output_type": "display_data"
    }
   ],
   "source": [
    "plt.figure(figsize=(10,5))\n",
    "sns.distplot(overview['Age'])"
   ]
  },
  {
   "cell_type": "code",
   "execution_count": 8,
   "metadata": {
    "_active": false,
    "_cell_guid": "cab233d2-8302-4092-c292-ebf6f5f54e46"
   },
   "outputs": [
    {
     "name": "stderr",
     "output_type": "stream",
     "text": [
      "/opt/conda/lib/python3.7/site-packages/seaborn/axisgrid.py:243: UserWarning: The `size` parameter has been renamed to `height`; please update your code.\n",
      "  warnings.warn(msg, UserWarning)\n"
     ]
    },
    {
     "data": {
      "image/png": "[encoded data removed]",
      "text/plain": [
       "<Figure size 1152x576 with 2 Axes>"
      ]
     },
     "metadata": {
      "needs_background": "light"
     },
     "output_type": "display_data"
    }
   ],
   "source": [
    "g = sns.FacetGrid(overview, col=\"Contrast\", size=8)\n",
    "g = g.map(sns.distplot, \"Age\")"
   ]
  },
  {
   "cell_type": "code",
   "execution_count": 9,
   "metadata": {
    "_active": false,
    "_cell_guid": "83830c45-c4cf-509a-ee0c-d9c8075ec616"
   },
   "outputs": [
    {
     "name": "stderr",
     "output_type": "stream",
     "text": [
      "/opt/conda/lib/python3.7/site-packages/seaborn/axisgrid.py:243: UserWarning: The `size` parameter has been renamed to `height`; please update your code.\n",
      "  warnings.warn(msg, UserWarning)\n"
     ]
    },
    {
     "data": {
      "image/png": "[encoded data removed]",
      "text/plain": [
       "<Figure size 482.5x432 with 1 Axes>"
      ]
     },
     "metadata": {
      "needs_background": "light"
     },
     "output_type": "display_data"
    }
   ],
   "source": [
    "g = sns.FacetGrid(overview, hue=\"Contrast\",size=6, legend_out=True)\n",
    "g = g.map(sns.distplot, \"Age\").add_legend()"
   ]
  },
  {
   "cell_type": "code",
   "execution_count": 10,
   "metadata": {
    "_active": false,
    "_cell_guid": "903f9962-56d9-3ab1-ee2d-6f87005a3985"
   },
   "outputs": [
    {
     "name": "stdout",
     "output_type": "stream",
     "text": [
      "['../input/tiff_images/ID_0027_AGE_0064_CONTRAST_1_CT.tif', '../input/tiff_images/ID_0096_AGE_0083_CONTRAST_0_CT.tif', '../input/tiff_images/ID_0073_AGE_0074_CONTRAST_0_CT.tif', '../input/tiff_images/ID_0046_AGE_0072_CONTRAST_1_CT.tif', '../input/tiff_images/ID_0052_AGE_0072_CONTRAST_0_CT.tif', '../input/tiff_images/ID_0015_AGE_0061_CONTRAST_1_CT.tif', '../input/tiff_images/ID_0009_AGE_0048_CONTRAST_1_CT.tif', '../input/tiff_images/ID_0048_AGE_0077_CONTRAST_1_CT.tif', '../input/tiff_images/ID_0020_AGE_0066_CONTRAST_1_CT.tif', '../input/tiff_images/ID_0055_AGE_0071_CONTRAST_0_CT.tif', '../input/tiff_images/ID_0077_AGE_0074_CONTRAST_0_CT.tif', '../input/tiff_images/ID_0086_AGE_0073_CONTRAST_0_CT.tif', '../input/tiff_images/ID_0005_AGE_0048_CONTRAST_1_CT.tif', '../input/tiff_images/ID_0050_AGE_0074_CONTRAST_0_CT.tif', '../input/tiff_images/ID_0002_AGE_0074_CONTRAST_1_CT.tif', '../input/tiff_images/ID_0016_AGE_0063_CONTRAST_1_CT.tif', '../input/tiff_images/ID_0083_AGE_0082_CONTRAST_0_CT.tif', '../input/tiff_images/ID_0063_AGE_0073_CONTRAST_0_CT.tif', '../input/tiff_images/ID_0038_AGE_0071_CONTRAST_1_CT.tif', '../input/tiff_images/ID_0024_AGE_0060_CONTRAST_1_CT.tif', '../input/tiff_images/ID_0023_AGE_0061_CONTRAST_1_CT.tif', '../input/tiff_images/ID_0019_AGE_0070_CONTRAST_1_CT.tif', '../input/tiff_images/ID_0072_AGE_0060_CONTRAST_0_CT.tif', '../input/tiff_images/ID_0074_AGE_0074_CONTRAST_0_CT.tif', '../input/tiff_images/ID_0076_AGE_0068_CONTRAST_0_CT.tif', '../input/tiff_images/ID_0001_AGE_0069_CONTRAST_1_CT.tif', '../input/tiff_images/ID_0061_AGE_0074_CONTRAST_0_CT.tif', '../input/tiff_images/ID_0035_AGE_0059_CONTRAST_1_CT.tif', '../input/tiff_images/ID_0070_AGE_0074_CONTRAST_0_CT.tif', '../input/tiff_images/ID_0095_AGE_0071_CONTRAST_0_CT.tif', '../input/tiff_images/ID_0047_AGE_0069_CONTRAST_1_CT.tif', '../input/tiff_images/ID_0022_AGE_0074_CONTRAST_1_CT.tif', '../input/tiff_images/ID_0094_AGE_0052_CONTRAST_0_CT.tif', '../input/tiff_images/ID_0029_AGE_0078_CONTRAST_1_CT.tif', '../input/tiff_images/ID_0057_AGE_0049_CONTRAST_0_CT.tif', '../input/tiff_images/ID_0056_AGE_0083_CONTRAST_0_CT.tif', '../input/tiff_images/ID_0064_AGE_0058_CONTRAST_0_CT.tif', '../input/tiff_images/ID_0079_AGE_0071_CONTRAST_0_CT.tif', '../input/tiff_images/ID_0011_AGE_0061_CONTRAST_1_CT.tif', '../input/tiff_images/ID_0033_AGE_0071_CONTRAST_1_CT.tif', '../input/tiff_images/ID_0039_AGE_0074_CONTRAST_1_CT.tif', '../input/tiff_images/ID_0067_AGE_0060_CONTRAST_0_CT.tif', '../input/tiff_images/ID_0065_AGE_0082_CONTRAST_0_CT.tif', '../input/tiff_images/ID_0087_AGE_0044_CONTRAST_0_CT.tif', '../input/tiff_images/ID_0066_AGE_0082_CONTRAST_0_CT.tif', '../input/tiff_images/ID_0017_AGE_0060_CONTRAST_1_CT.tif', '../input/tiff_images/ID_0053_AGE_0073_CONTRAST_0_CT.tif', '../input/tiff_images/ID_0040_AGE_0069_CONTRAST_1_CT.tif', '../input/tiff_images/ID_0021_AGE_0067_CONTRAST_1_CT.tif', '../input/tiff_images/ID_0010_AGE_0060_CONTRAST_1_CT.tif', '../input/tiff_images/ID_0062_AGE_0067_CONTRAST_0_CT.tif', '../input/tiff_images/ID_0025_AGE_0074_CONTRAST_1_CT.tif', '../input/tiff_images/ID_0004_AGE_0056_CONTRAST_1_CT.tif', '../input/tiff_images/ID_0090_AGE_0067_CONTRAST_0_CT.tif', '../input/tiff_images/ID_0080_AGE_0070_CONTRAST_0_CT.tif', '../input/tiff_images/ID_0060_AGE_0080_CONTRAST_0_CT.tif', '../input/tiff_images/ID_0089_AGE_0071_CONTRAST_0_CT.tif', '../input/tiff_images/ID_0098_AGE_0061_CONTRAST_0_CT.tif', '../input/tiff_images/ID_0014_AGE_0071_CONTRAST_1_CT.tif', '../input/tiff_images/ID_0082_AGE_0047_CONTRAST_0_CT.tif', '../input/tiff_images/ID_0007_AGE_0061_CONTRAST_1_CT.tif', '../input/tiff_images/ID_0059_AGE_0074_CONTRAST_0_CT.tif', '../input/tiff_images/ID_0012_AGE_0061_CONTRAST_1_CT.tif', '../input/tiff_images/ID_0041_AGE_0045_CONTRAST_1_CT.tif', '../input/tiff_images/ID_0068_AGE_0072_CONTRAST_0_CT.tif', '../input/tiff_images/ID_0097_AGE_0060_CONTRAST_0_CT.tif', '../input/tiff_images/ID_0054_AGE_0082_CONTRAST_0_CT.tif', '../input/tiff_images/ID_0071_AGE_0065_CONTRAST_0_CT.tif', '../input/tiff_images/ID_0036_AGE_0074_CONTRAST_1_CT.tif', '../input/tiff_images/ID_0030_AGE_0076_CONTRAST_1_CT.tif', '../input/tiff_images/ID_0091_AGE_0072_CONTRAST_0_CT.tif', '../input/tiff_images/ID_0078_AGE_0066_CONTRAST_0_CT.tif', '../input/tiff_images/ID_0069_AGE_0074_CONTRAST_0_CT.tif', '../input/tiff_images/ID_0037_AGE_0074_CONTRAST_1_CT.tif', '../input/tiff_images/ID_0099_AGE_0061_CONTRAST_0_CT.tif', '../input/tiff_images/ID_0045_AGE_0074_CONTRAST_1_CT.tif', '../input/tiff_images/ID_0034_AGE_0061_CONTRAST_1_CT.tif', '../input/tiff_images/ID_0043_AGE_0069_CONTRAST_1_CT.tif', '../input/tiff_images/ID_0085_AGE_0067_CONTRAST_0_CT.tif', '../input/tiff_images/ID_0049_AGE_0061_CONTRAST_1_CT.tif', '../input/tiff_images/ID_0093_AGE_0067_CONTRAST_0_CT.tif', '../input/tiff_images/ID_0000_AGE_0060_CONTRAST_1_CT.tif', '../input/tiff_images/ID_0084_AGE_0067_CONTRAST_0_CT.tif', '../input/tiff_images/ID_0058_AGE_0082_CONTRAST_0_CT.tif', '../input/tiff_images/ID_0013_AGE_0060_CONTRAST_1_CT.tif', '../input/tiff_images/ID_0088_AGE_0067_CONTRAST_0_CT.tif', '../input/tiff_images/ID_0042_AGE_0071_CONTRAST_1_CT.tif', '../input/tiff_images/ID_0092_AGE_0072_CONTRAST_0_CT.tif', '../input/tiff_images/ID_0018_AGE_0074_CONTRAST_1_CT.tif', '../input/tiff_images/ID_0051_AGE_0063_CONTRAST_0_CT.tif', '../input/tiff_images/ID_0031_AGE_0039_CONTRAST_1_CT.tif', '../input/tiff_images/ID_0006_AGE_0075_CONTRAST_1_CT.tif', '../input/tiff_images/ID_0032_AGE_0061_CONTRAST_1_CT.tif', '../input/tiff_images/ID_0008_AGE_0051_CONTRAST_1_CT.tif', '../input/tiff_images/ID_0044_AGE_0072_CONTRAST_1_CT.tif', '../input/tiff_images/ID_0026_AGE_0070_CONTRAST_1_CT.tif', '../input/tiff_images/ID_0003_AGE_0075_CONTRAST_1_CT.tif', '../input/tiff_images/ID_0028_AGE_0074_CONTRAST_1_CT.tif', '../input/tiff_images/ID_0075_AGE_0080_CONTRAST_0_CT.tif', '../input/tiff_images/ID_0081_AGE_0058_CONTRAST_0_CT.tif']\n"
     ]
    }
   ],
   "source": [
    "#if(IS_LOCAL):\n",
    "   #PATH=\"/input/siim-medical-image/\"\n",
    "#else:\n",
    "    #PATH=\"/input/\"\n",
    "\n",
    "\n",
    "BASE_IMG_PATH='../input'\n",
    "#print(os.listdir(BASE_IMG_PATH))\n",
    "#print(os.path.join(BASE_IMG_PATH,'tiff_images','*.tif'))\n",
    "all_images_list = glob(os.path.join(BASE_IMG_PATH,'tiff_images','*.tif'))\n",
    "all_images_list[:5]\n",
    "print(all_images_list)"
   ]
  },
  {
   "cell_type": "code",
   "execution_count": 11,
   "metadata": {
    "_active": false,
    "_cell_guid": "0297e32f-e635-8e9f-20e4-120cea335001"
   },
   "outputs": [
    {
     "data": {
      "text/plain": [
       "(512, 512)"
      ]
     },
     "execution_count": 11,
     "metadata": {},
     "output_type": "execute_result"
    }
   ],
   "source": [
    "imread(all_images_list[0]).shape"
   ]
  },
  {
   "cell_type": "code",
   "execution_count": 12,
   "metadata": {
    "_active": false,
    "_cell_guid": "54fb721a-19f5-1320-2c20-1da98b17ea6f"
   },
   "outputs": [
    {
     "data": {
      "text/plain": [
       "array([[ 0,  1,  2,  3,  4,  5,  6,  7,  8],\n",
       "       [ 9, 10, 11, 12, 13, 14, 15, 16, 17],\n",
       "       [18, 19, 20, 21, 22, 23, 24, 25, 26],\n",
       "       [27, 28, 29, 30, 31, 32, 33, 34, 35],\n",
       "       [36, 37, 38, 39, 40, 41, 42, 43, 44],\n",
       "       [45, 46, 47, 48, 49, 50, 51, 52, 53],\n",
       "       [54, 55, 56, 57, 58, 59, 60, 61, 62],\n",
       "       [63, 64, 65, 66, 67, 68, 69, 70, 71],\n",
       "       [72, 73, 74, 75, 76, 77, 78, 79, 80]])"
      ]
     },
     "execution_count": 12,
     "metadata": {},
     "output_type": "execute_result"
    }
   ],
   "source": [
    "np.array(np.arange(81)).reshape(9,9)"
   ]
  },
  {
   "cell_type": "code",
   "execution_count": 13,
   "metadata": {
    "_active": false,
    "_cell_guid": "77250f23-8ab8-13a9-d972-7d6768c90e5e"
   },
   "outputs": [
    {
     "data": {
      "text/plain": [
       "array([[ 0,  3,  6],\n",
       "       [27, 30, 33],\n",
       "       [54, 57, 60]])"
      ]
     },
     "execution_count": 13,
     "metadata": {},
     "output_type": "execute_result"
    }
   ],
   "source": [
    "np.array(np.arange(81)).reshape(9,9)[::3,::3]"
   ]
  },
  {
   "cell_type": "code",
   "execution_count": 14,
   "metadata": {
    "_active": false,
    "_cell_guid": "66e16184-234e-6dde-7605-6e1d47e46a73"
   },
   "outputs": [
    {
     "data": {
      "text/plain": [
       "(1, 128, 128)"
      ]
     },
     "execution_count": 14,
     "metadata": {},
     "output_type": "execute_result"
    }
   ],
   "source": [
    "np.expand_dims(imread(all_images_list[0])[::4,::4],0).shape"
   ]
  },
  {
   "cell_type": "code",
   "execution_count": 15,
   "metadata": {
    "_active": false,
    "_cell_guid": "a964bee8-7247-c4a2-aa70-9444ecf5b635"
   },
   "outputs": [],
   "source": [
    "jimread = lambda x: np.expand_dims(imread(x)[::2,::2],0)"
   ]
  },
  {
   "cell_type": "code",
   "execution_count": 16,
   "metadata": {
    "_active": false,
    "_cell_guid": "4237cc01-b395-c387-53f3-5a8c5b3bf284"
   },
   "outputs": [
    {
     "data": {
      "text/plain": [
       "<matplotlib.image.AxesImage at 0x7fd4a855f310>"
      ]
     },
     "execution_count": 16,
     "metadata": {},
     "output_type": "execute_result"
    },
    {
     "data": {
      "image/png": "[encoded data removed]",
      "text/plain": [
       "<Figure size 432x288 with 1 Axes>"
      ]
     },
     "metadata": {
      "needs_background": "light"
     },
     "output_type": "display_data"
    }
   ],
   "source": [
    "test_image = jimread(all_images_list[0])\n",
    "plt.imshow(test_image[0])"
   ]
  },
  {
   "cell_type": "code",
   "execution_count": 17,
   "metadata": {
    "_active": false,
    "_cell_guid": "18e5ebe3-61c8-b777-497c-90eef6605d8b"
   },
   "outputs": [],
   "source": [
    "check_contrast = re.compile(r'ID_([\\d]+)_AGE_[\\d]+_CONTRAST_([\\d]+)_CT')\n",
    "label = []\n",
    "id_list = []\n",
    "for image in all_images_list:\n",
    "    id_list.append(check_contrast.findall(image)[0][0])\n",
    "    label.append(check_contrast.findall(image)[0][1])"
   ]
  },
  {
   "cell_type": "code",
   "execution_count": 18,
   "metadata": {
    "_active": false,
    "_cell_guid": "3313edaa-0603-f4a2-4f69-628dd811d2c1"
   },
   "outputs": [],
   "source": [
    "label_list = pd.DataFrame(label,id_list)"
   ]
  },
  {
   "cell_type": "code",
   "execution_count": 19,
   "metadata": {
    "_active": false,
    "_cell_guid": "94c034ea-83d3-093f-66d4-7f809ba5dc8b"
   },
   "outputs": [
    {
     "data": {
      "text/html": [
       "<div>\n",
       "<style scoped>\n",
       "    .dataframe tbody tr th:only-of-type {\n",
       "        vertical-align: middle;\n",
       "    }\n",
       "\n",
       "    .dataframe tbody tr th {\n",
       "        vertical-align: top;\n",
       "    }\n",
       "\n",
       "    .dataframe thead th {\n",
       "        text-align: right;\n",
       "    }\n",
       "</style>\n",
       "<table border=\"1\" class=\"dataframe\">\n",
       "  <thead>\n",
       "    <tr style=\"text-align: right;\">\n",
       "      <th></th>\n",
       "      <th>0</th>\n",
       "    </tr>\n",
       "  </thead>\n",
       "  <tbody>\n",
       "    <tr>\n",
       "      <th>0027</th>\n",
       "      <td>1</td>\n",
       "    </tr>\n",
       "    <tr>\n",
       "      <th>0096</th>\n",
       "      <td>0</td>\n",
       "    </tr>\n",
       "    <tr>\n",
       "      <th>0073</th>\n",
       "      <td>0</td>\n",
       "    </tr>\n",
       "    <tr>\n",
       "      <th>0046</th>\n",
       "      <td>1</td>\n",
       "    </tr>\n",
       "    <tr>\n",
       "      <th>0052</th>\n",
       "      <td>0</td>\n",
       "    </tr>\n",
       "  </tbody>\n",
       "</table>\n",
       "</div>"
      ],
      "text/plain": [
       "      0\n",
       "0027  1\n",
       "0096  0\n",
       "0073  0\n",
       "0046  1\n",
       "0052  0"
      ]
     },
     "execution_count": 19,
     "metadata": {},
     "output_type": "execute_result"
    }
   ],
   "source": [
    "label_list.head()"
   ]
  },
  {
   "cell_type": "code",
   "execution_count": 20,
   "metadata": {
    "_active": false,
    "_cell_guid": "140b1ba7-ed88-ac31-99e4-12737cad5951"
   },
   "outputs": [],
   "source": [
    "images = np.stack([jimread(i) for i in all_images_list],0)"
   ]
  },
  {
   "cell_type": "code",
   "execution_count": 21,
   "metadata": {
    "_active": false,
    "_cell_guid": "a2d7269a-2d5d-86d8-046a-2cde3f07eb00"
   },
   "outputs": [
    {
     "data": {
      "text/plain": [
       "100"
      ]
     },
     "execution_count": 21,
     "metadata": {},
     "output_type": "execute_result"
    }
   ],
   "source": [
    "len(images)"
   ]
  },
  {
   "cell_type": "code",
   "execution_count": 22,
   "metadata": {
    "_active": false,
    "_cell_guid": "5c6c3654-33b3-64f6-2a0a-46e35a3e6639"
   },
   "outputs": [],
   "source": [
    "from sklearn.model_selection import train_test_split"
   ]
  },
  {
   "cell_type": "code",
   "execution_count": 23,
   "metadata": {
    "_active": false,
    "_cell_guid": "94a971d3-dc62-a3bd-dcfc-3394c853e993"
   },
   "outputs": [],
   "source": [
    "X_train, X_test, y_train, y_test = train_test_split(images, label_list, test_size=0.1, random_state=0)"
   ]
  },
  {
   "cell_type": "code",
   "execution_count": 24,
   "metadata": {
    "_active": false,
    "_cell_guid": "eccb92e8-516c-af36-4cb5-91638104f2e1"
   },
   "outputs": [],
   "source": [
    "n_train, depth, width, height = X_train.shape\n",
    "n_test,_,_,_ = X_test.shape"
   ]
  },
  {
   "cell_type": "code",
   "execution_count": 25,
   "metadata": {
    "_active": false,
    "_cell_guid": "1c3fa2c3-3503-4587-5927-9c59f1c2f6ca"
   },
   "outputs": [
    {
     "data": {
      "text/plain": [
       "(90, 1, 256, 256)"
      ]
     },
     "execution_count": 25,
     "metadata": {},
     "output_type": "execute_result"
    }
   ],
   "source": [
    "n_train,depth, width, height"
   ]
  },
  {
   "cell_type": "code",
   "execution_count": 26,
   "metadata": {
    "_active": false,
    "_cell_guid": "057b51b4-a682-a552-1f1f-a0bc71d6826c"
   },
   "outputs": [],
   "source": [
    "input_shape = (width,height,depth)"
   ]
  },
  {
   "cell_type": "code",
   "execution_count": 27,
   "metadata": {
    "_active": false,
    "_cell_guid": "883a4c62-9d71-b647-cc9f-e10ec6979577"
   },
   "outputs": [
    {
     "data": {
      "text/plain": [
       "(256, 256, 1)"
      ]
     },
     "execution_count": 27,
     "metadata": {},
     "output_type": "execute_result"
    }
   ],
   "source": [
    "input_shape"
   ]
  },
  {
   "cell_type": "code",
   "execution_count": 28,
   "metadata": {
    "_active": false,
    "_cell_guid": "cc85b31d-f01e-c7de-07f3-7b36326db826"
   },
   "outputs": [
    {
     "data": {
      "text/plain": [
       "1.0"
      ]
     },
     "execution_count": 28,
     "metadata": {},
     "output_type": "execute_result"
    }
   ],
   "source": [
    "input_train = X_train.reshape((n_train, width,height,depth))\n",
    "input_train.shape\n",
    "input_train.astype('float32')\n",
    "input_train = input_train / np.max(input_train)\n",
    "input_train.max()"
   ]
  },
  {
   "cell_type": "code",
   "execution_count": 29,
   "metadata": {
    "_active": false,
    "_cell_guid": "4e1ddca3-155e-719b-00aa-1c6f5d748e0e"
   },
   "outputs": [],
   "source": [
    "input_test = X_test.reshape(n_test, *input_shape)\n",
    "input_test.astype('float32')\n",
    "input_test = input_test / np.max(input_test)"
   ]
  },
  {
   "cell_type": "code",
   "execution_count": 30,
   "metadata": {
    "_active": false,
    "_cell_guid": "beb04ced-7fa4-9931-cacc-c06a108c6dde"
   },
   "outputs": [
    {
     "data": {
      "text/plain": [
       "array([0., 1.], dtype=float32)"
      ]
     },
     "execution_count": 30,
     "metadata": {},
     "output_type": "execute_result"
    }
   ],
   "source": [
    "output_train = keras.utils.to_categorical(y_train, 2)\n",
    "output_test = keras.utils.to_categorical(y_test, 2)\n",
    "output_train[5]"
   ]
  },
  {
   "cell_type": "code",
   "execution_count": 31,
   "metadata": {
    "_active": false,
    "_cell_guid": "93771d31-451c-0111-37f7-825e9b4f402f"
   },
   "outputs": [
    {
     "data": {
      "text/plain": [
       "(90, 256, 256, 1)"
      ]
     },
     "execution_count": 31,
     "metadata": {},
     "output_type": "execute_result"
    }
   ],
   "source": [
    "input_train.shape"
   ]
  },
  {
   "cell_type": "code",
   "execution_count": 32,
   "metadata": {
    "_active": false,
    "_cell_guid": "3c48ada1-6f0a-8b8e-8aa5-067a00cd6f7d"
   },
   "outputs": [],
   "source": [
    "from keras.models import Sequential\n",
    "from keras.layers import Dense, Flatten\n",
    "from keras.optimizers import Adam\n",
    "from keras.layers import Conv2D, MaxPooling2D"
   ]
  },
  {
   "cell_type": "code",
   "execution_count": 33,
   "metadata": {
    "_active": false,
    "_cell_guid": "4c4b848f-af6a-8a86-ffd1-d84464b82d67"
   },
   "outputs": [],
   "source": [
    "batch_size = 20\n",
    "epochs = 40"
   ]
  },
  {
   "cell_type": "code",
   "execution_count": 34,
   "metadata": {
    "_active": false,
    "_cell_guid": "2c3081d5-c966-0cca-65cd-a812fb9b78eb"
   },
   "outputs": [],
   "source": [
    "model2 = Sequential()\n",
    "model2.add(Conv2D(50, (5, 5), activation='relu', input_shape=input_shape))\n",
    " # 32 4x4 Filter  Convolutional Network\n",
    "model2.add(MaxPooling2D(pool_size=(3, 3))) # 3x3 Maxpooling \n",
    "model2.add(Conv2D(30, (4, 4), activation='relu', input_shape=input_shape))\n",
    "model2.add(MaxPooling2D(pool_size=(2, 2))) # 2x2 Maxpooling \n",
    "model2.add(Flatten()) #Fully Connected Neural Network \n",
    "model2.add(Dense(2, activation='softmax'))"
   ]
  },
  {
   "cell_type": "code",
   "execution_count": 35,
   "metadata": {
    "_active": false,
    "_cell_guid": "0a67a856-a6ff-9bf5-bddb-40a1eddd31d5"
   },
   "outputs": [
    {
     "name": "stdout",
     "output_type": "stream",
     "text": [
      "Model: \"sequential_1\"\n",
      "_________________________________________________________________\n",
      "Layer (type)                 Output Shape              Param #   \n",
      "=================================================================\n",
      "conv2d_1 (Conv2D)            (None, 252, 252, 50)      1300      \n",
      "_________________________________________________________________\n",
      "max_pooling2d_1 (MaxPooling2 (None, 84, 84, 50)        0         \n",
      "_________________________________________________________________\n",
      "conv2d_2 (Conv2D)            (None, 81, 81, 30)        24030     \n",
      "_________________________________________________________________\n",
      "max_pooling2d_2 (MaxPooling2 (None, 40, 40, 30)        0         \n",
      "_________________________________________________________________\n",
      "flatten_1 (Flatten)          (None, 48000)             0         \n",
      "_________________________________________________________________\n",
      "dense_1 (Dense)              (None, 2)                 96002     \n",
      "=================================================================\n",
      "Total params: 121,332\n",
      "Trainable params: 121,332\n",
      "Non-trainable params: 0\n",
      "_________________________________________________________________\n"
     ]
    }
   ],
   "source": [
    "model2.summary()"
   ]
  },
  {
   "cell_type": "code",
   "execution_count": 36,
   "metadata": {
    "_active": false,
    "_cell_guid": "90a1467a-2441-504d-b86a-b27b6b9f3840"
   },
   "outputs": [],
   "source": [
    "model2.compile(loss='categorical_crossentropy',\n",
    "              optimizer=Adam(),\n",
    "              metrics=['accuracy'])"
   ]
  },
  {
   "cell_type": "code",
   "execution_count": 37,
   "metadata": {
    "_active": false,
    "_cell_guid": "5ce12e74-c501-59e5-292c-5c1e4ef288a2"
   },
   "outputs": [
    {
     "name": "stdout",
     "output_type": "stream",
     "text": [
      "Train on 90 samples, validate on 10 samples\n",
      "Epoch 1/40\n",
      "90/90 [==============================] - 6s 67ms/step - loss: 0.7708 - accuracy: 0.5111 - val_loss: 0.6931 - val_accuracy: 0.5000\n",
      "Epoch 2/40\n",
      "90/90 [==============================] - 5s 60ms/step - loss: 0.6477 - accuracy: 0.5000 - val_loss: 0.6455 - val_accuracy: 0.5000\n",
      "Epoch 3/40\n",
      "90/90 [==============================] - 5s 59ms/step - loss: 0.5555 - accuracy: 0.7333 - val_loss: 0.5310 - val_accuracy: 0.8000\n",
      "Epoch 4/40\n",
      "90/90 [==============================] - 5s 59ms/step - loss: 0.3783 - accuracy: 0.9222 - val_loss: 0.4751 - val_accuracy: 0.7000\n",
      "Epoch 5/40\n",
      "90/90 [==============================] - 6s 62ms/step - loss: 0.2274 - accuracy: 0.9444 - val_loss: 0.3330 - val_accuracy: 0.9000\n",
      "Epoch 6/40\n",
      "90/90 [==============================] - 5s 61ms/step - loss: 0.1354 - accuracy: 0.9556 - val_loss: 0.2924 - val_accuracy: 0.9000\n",
      "Epoch 7/40\n",
      "90/90 [==============================] - 5s 60ms/step - loss: 0.0761 - accuracy: 0.9778 - val_loss: 0.2504 - val_accuracy: 0.8000\n",
      "Epoch 8/40\n",
      "90/90 [==============================] - 5s 60ms/step - loss: 0.0462 - accuracy: 0.9889 - val_loss: 0.2375 - val_accuracy: 0.8000\n",
      "Epoch 9/40\n",
      "90/90 [==============================] - 5s 59ms/step - loss: 0.0451 - accuracy: 0.9889 - val_loss: 0.3251 - val_accuracy: 0.9000\n",
      "Epoch 10/40\n",
      "90/90 [==============================] - 6s 62ms/step - loss: 0.0086 - accuracy: 1.0000 - val_loss: 0.4011 - val_accuracy: 0.9000\n",
      "Epoch 11/40\n",
      "90/90 [==============================] - 5s 60ms/step - loss: 0.0146 - accuracy: 1.0000 - val_loss: 0.2590 - val_accuracy: 0.8000\n",
      "Epoch 12/40\n",
      "90/90 [==============================] - 5s 59ms/step - loss: 0.0064 - accuracy: 1.0000 - val_loss: 0.3714 - val_accuracy: 0.8000\n",
      "Epoch 13/40\n",
      "90/90 [==============================] - 5s 58ms/step - loss: 0.0050 - accuracy: 1.0000 - val_loss: 0.2419 - val_accuracy: 0.8000\n",
      "Epoch 14/40\n",
      "90/90 [==============================] - 5s 60ms/step - loss: 0.0020 - accuracy: 1.0000 - val_loss: 0.2998 - val_accuracy: 0.9000\n",
      "Epoch 15/40\n",
      "90/90 [==============================] - 5s 59ms/step - loss: 0.0020 - accuracy: 1.0000 - val_loss: 0.2868 - val_accuracy: 0.9000\n",
      "Epoch 16/40\n",
      "90/90 [==============================] - 5s 60ms/step - loss: 0.0013 - accuracy: 1.0000 - val_loss: 0.2466 - val_accuracy: 0.9000\n",
      "Epoch 17/40\n",
      "90/90 [==============================] - 6s 62ms/step - loss: 9.0273e-04 - accuracy: 1.0000 - val_loss: 0.2349 - val_accuracy: 0.9000\n",
      "Epoch 18/40\n",
      "90/90 [==============================] - 5s 59ms/step - loss: 8.7208e-04 - accuracy: 1.0000 - val_loss: 0.2358 - val_accuracy: 0.9000\n",
      "Epoch 19/40\n",
      "90/90 [==============================] - 5s 58ms/step - loss: 8.0559e-04 - accuracy: 1.0000 - val_loss: 0.2369 - val_accuracy: 0.9000\n",
      "Epoch 20/40\n",
      "90/90 [==============================] - 5s 59ms/step - loss: 7.0621e-04 - accuracy: 1.0000 - val_loss: 0.2449 - val_accuracy: 0.9000\n",
      "Epoch 21/40\n",
      "90/90 [==============================] - 5s 58ms/step - loss: 6.2691e-04 - accuracy: 1.0000 - val_loss: 0.2535 - val_accuracy: 0.9000\n",
      "Epoch 22/40\n",
      "90/90 [==============================] - 5s 59ms/step - loss: 5.8693e-04 - accuracy: 1.0000 - val_loss: 0.2593 - val_accuracy: 0.9000\n",
      "Epoch 23/40\n",
      "90/90 [==============================] - 6s 62ms/step - loss: 5.5218e-04 - accuracy: 1.0000 - val_loss: 0.2597 - val_accuracy: 0.9000\n",
      "Epoch 24/40\n",
      "90/90 [==============================] - 5s 59ms/step - loss: 5.1927e-04 - accuracy: 1.0000 - val_loss: 0.2572 - val_accuracy: 0.9000\n",
      "Epoch 25/40\n",
      "90/90 [==============================] - 5s 59ms/step - loss: 5.0640e-04 - accuracy: 1.0000 - val_loss: 0.2494 - val_accuracy: 0.9000\n",
      "Epoch 26/40\n",
      "90/90 [==============================] - 5s 59ms/step - loss: 4.6527e-04 - accuracy: 1.0000 - val_loss: 0.2504 - val_accuracy: 0.9000\n",
      "Epoch 27/40\n",
      "90/90 [==============================] - 5s 59ms/step - loss: 4.4076e-04 - accuracy: 1.0000 - val_loss: 0.2559 - val_accuracy: 0.9000\n",
      "Epoch 28/40\n",
      "90/90 [==============================] - 5s 60ms/step - loss: 4.0931e-04 - accuracy: 1.0000 - val_loss: 0.2560 - val_accuracy: 0.9000\n",
      "Epoch 29/40\n",
      "90/90 [==============================] - 6s 63ms/step - loss: 3.8798e-04 - accuracy: 1.0000 - val_loss: 0.2568 - val_accuracy: 0.9000\n",
      "Epoch 30/40\n",
      "90/90 [==============================] - 5s 59ms/step - loss: 3.7164e-04 - accuracy: 1.0000 - val_loss: 0.2613 - val_accuracy: 0.9000\n",
      "Epoch 31/40\n",
      "90/90 [==============================] - 5s 59ms/step - loss: 3.5139e-04 - accuracy: 1.0000 - val_loss: 0.2609 - val_accuracy: 0.9000\n",
      "Epoch 32/40\n",
      "90/90 [==============================] - 5s 59ms/step - loss: 3.3473e-04 - accuracy: 1.0000 - val_loss: 0.2622 - val_accuracy: 0.9000\n",
      "Epoch 33/40\n",
      "90/90 [==============================] - 5s 59ms/step - loss: 3.2201e-04 - accuracy: 1.0000 - val_loss: 0.2599 - val_accuracy: 0.9000\n",
      "Epoch 34/40\n",
      "90/90 [==============================] - 5s 60ms/step - loss: 3.0707e-04 - accuracy: 1.0000 - val_loss: 0.2658 - val_accuracy: 0.9000\n",
      "Epoch 35/40\n",
      "90/90 [==============================] - 6s 63ms/step - loss: 2.9105e-04 - accuracy: 1.0000 - val_loss: 0.2607 - val_accuracy: 0.9000\n",
      "Epoch 36/40\n",
      "90/90 [==============================] - 5s 59ms/step - loss: 2.7819e-04 - accuracy: 1.0000 - val_loss: 0.2616 - val_accuracy: 0.9000\n",
      "Epoch 37/40\n",
      "90/90 [==============================] - 5s 59ms/step - loss: 2.6595e-04 - accuracy: 1.0000 - val_loss: 0.2611 - val_accuracy: 0.9000\n",
      "Epoch 38/40\n",
      "90/90 [==============================] - 5s 59ms/step - loss: 2.5372e-04 - accuracy: 1.0000 - val_loss: 0.2644 - val_accuracy: 0.9000\n",
      "Epoch 39/40\n",
      "90/90 [==============================] - 5s 59ms/step - loss: 2.4416e-04 - accuracy: 1.0000 - val_loss: 0.2698 - val_accuracy: 0.9000\n",
      "Epoch 40/40\n",
      "90/90 [==============================] - 5s 59ms/step - loss: 2.3316e-04 - accuracy: 1.0000 - val_loss: 0.2628 - val_accuracy: 0.9000\n"
     ]
    }
   ],
   "source": [
    "history = model2.fit(input_train, output_train,\n",
    "                    batch_size=batch_size,\n",
    "                    epochs=epochs,\n",
    "                    verbose=1,\n",
    "                    validation_data=(input_test, output_test))"
   ]
  },
  {
   "cell_type": "code",
   "execution_count": 38,
   "metadata": {
    "_active": false,
    "_cell_guid": "d686fe4f-9233-b836-1159-d92ca1cd6a2c"
   },
   "outputs": [
    {
     "data": {
      "text/plain": [
       "[0.2627817690372467, 0.8999999761581421]"
      ]
     },
     "execution_count": 38,
     "metadata": {},
     "output_type": "execute_result"
    }
   ],
   "source": [
    "score = model2.evaluate(input_test, output_test, verbose=0)\n",
    "score"
   ]
  },
  {
   "cell_type": "code",
   "execution_count": 39,
   "metadata": {
    "_active": false,
    "_cell_guid": "43c23078-a27f-71cc-767c-c89d8d7c550f",
    "scrolled": true
   },
   "outputs": [
    {
     "data": {
      "text/plain": [
       "array([[7.1709186e-01, 2.8290817e-01],\n",
       "       [1.5007465e-03, 9.9849927e-01],\n",
       "       [9.9961096e-01, 3.8906775e-04],\n",
       "       [9.6889067e-01, 3.1109348e-02],\n",
       "       [1.7599260e-02, 9.8240077e-01],\n",
       "       [8.6585736e-01, 1.3414262e-01],\n",
       "       [9.8945576e-01, 1.0544239e-02],\n",
       "       [8.9240428e-05, 9.9991071e-01],\n",
       "       [7.9893589e-01, 2.0106411e-01],\n",
       "       [1.0474736e-11, 1.0000000e+00]], dtype=float32)"
      ]
     },
     "execution_count": 39,
     "metadata": {},
     "output_type": "execute_result"
    }
   ],
   "source": [
    "model2.predict(input_test)"
   ]
  },
  {
   "cell_type": "markdown",
   "metadata": {},
   "source": [
    "## References  \n",
    "[1] Applyting CNN on CT images with Keras 8c67fd, https://www.kaggle.com/abjorox/applyting-cnn-on-ct-images-with-keras-project-my"
   ]
  }
 ],
 "metadata": {
  "kernelspec": {
   "display_name": "Python 3",
   "language": "python",
   "name": "python3"
  },
  "language_info": {
   "codemirror_mode": {
    "name": "ipython",
    "version": 3
   },
   "file_extension": ".py",
   "mimetype": "text/x-python",
   "name": "python",
   "nbconvert_exporter": "python",
   "pygments_lexer": "ipython3",
   "version": "3.8.5"
  }
 },
 "nbformat": 4,
 "nbformat_minor": 4
}
